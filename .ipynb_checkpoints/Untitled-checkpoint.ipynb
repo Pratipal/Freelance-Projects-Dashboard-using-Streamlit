{
 "cells": [
  {
   "cell_type": "code",
   "execution_count": 1,
   "id": "2f4eaaaa-920f-46e1-b849-7bb40fa8facb",
   "metadata": {},
   "outputs": [],
   "source": [
    "import json"
   ]
  },
  {
   "cell_type": "code",
   "execution_count": 2,
   "id": "6b207d57-fcc5-49a9-a050-e33b58632325",
   "metadata": {},
   "outputs": [],
   "source": [
    "import pandas as pd"
   ]
  },
  {
   "cell_type": "code",
   "execution_count": 4,
   "id": "d7ce68d9-33fb-4797-b254-9262f3c639af",
   "metadata": {},
   "outputs": [],
   "source": [
    "df = pd.read_json('countries.geojson')"
   ]
  },
  {
   "cell_type": "code",
   "execution_count": 12,
   "id": "eaa5e2dd-a8c7-4a05-97fb-92e0dd1d472b",
   "metadata": {},
   "outputs": [],
   "source": [
    "fdf = pd.json_normalize(df['features'])"
   ]
  },
  {
   "cell_type": "code",
   "execution_count": 14,
   "id": "67a17f96-285b-43e0-8611-140decec0745",
   "metadata": {},
   "outputs": [
    {
     "data": {
      "text/plain": [
       "0             Aruba\n",
       "1       Afghanistan\n",
       "2            Angola\n",
       "3          Anguilla\n",
       "4           Albania\n",
       "           ...     \n",
       "250           Samoa\n",
       "251           Yemen\n",
       "252    South Africa\n",
       "253          Zambia\n",
       "254        Zimbabwe\n",
       "Name: properties.ADMIN, Length: 255, dtype: object"
      ]
     },
     "execution_count": 14,
     "metadata": {},
     "output_type": "execute_result"
    }
   ],
   "source": [
    "fdf['properties.ADMIN']"
   ]
  },
  {
   "cell_type": "code",
   "execution_count": null,
   "id": "174f553c-d20c-4f67-bd6d-b83e243f589f",
   "metadata": {},
   "outputs": [],
   "source": []
  },
  {
   "cell_type": "code",
   "execution_count": null,
   "id": "b00a3800-26a7-49bf-9c89-1dfe3f4c1949",
   "metadata": {},
   "outputs": [],
   "source": []
  },
  {
   "cell_type": "code",
   "execution_count": null,
   "id": "a04c5e1c-ce60-4413-b332-449c19a7e7e5",
   "metadata": {},
   "outputs": [],
   "source": []
  },
  {
   "cell_type": "code",
   "execution_count": null,
   "id": "67dcba98-d3e3-4291-a140-af91eec84a10",
   "metadata": {},
   "outputs": [],
   "source": []
  },
  {
   "cell_type": "code",
   "execution_count": null,
   "id": "6e9a2939-1eb0-4e13-ad62-2c21d7893a47",
   "metadata": {},
   "outputs": [],
   "source": []
  },
  {
   "cell_type": "code",
   "execution_count": null,
   "id": "9a795bbd-a1f8-4a14-a09d-9ad057585594",
   "metadata": {},
   "outputs": [],
   "source": []
  }
 ],
 "metadata": {
  "kernelspec": {
   "display_name": "Python 3 (ipykernel)",
   "language": "python",
   "name": "python3"
  },
  "language_info": {
   "codemirror_mode": {
    "name": "ipython",
    "version": 3
   },
   "file_extension": ".py",
   "mimetype": "text/x-python",
   "name": "python",
   "nbconvert_exporter": "python",
   "pygments_lexer": "ipython3",
   "version": "3.9.13"
  }
 },
 "nbformat": 4,
 "nbformat_minor": 5
}
